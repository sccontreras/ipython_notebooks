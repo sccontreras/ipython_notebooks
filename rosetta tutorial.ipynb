{
 "cells": [
  {
   "cell_type": "code",
   "execution_count": 1,
   "metadata": {
    "collapsed": true
   },
   "outputs": [],
   "source": [
    "from rosetta import *"
   ]
  },
  {
   "cell_type": "code",
   "execution_count": 4,
   "metadata": {
    "collapsed": false
   },
   "outputs": [],
   "source": [
    "rosetta.init()"
   ]
  },
  {
   "cell_type": "code",
   "execution_count": 5,
   "metadata": {
    "collapsed": false
   },
   "outputs": [
    {
     "name": "stdout",
     "output_type": "stream",
     "text": [
      "If the file 1YY8.clean.pdb already exists,it will be overwritten.\n",
      "PDB 1YY8.pdb successfully cleaned, non-ATOM lines removed.\n",
      "Clean data written to 1YY8.clean.pdb.\n"
     ]
    }
   ],
   "source": [
    "from toolbox import cleanATOM\n",
    "cleanATOM(\"1YY8.pdb\")"
   ]
  },
  {
   "cell_type": "code",
   "execution_count": 8,
   "metadata": {
    "collapsed": false
   },
   "outputs": [
    {
     "name": "stdout",
     "output_type": "stream",
     "text": [
      "The file 1YY8.pdb already exists; this file will be overwritten.\n",
      "PDB 1YY8 successfully loaded from the RCSB into 1YY8.pdb.\n",
      "If the file 1YY8.clean.pdb already exists,it will be overwritten.\n",
      "PDB 1YY8.pdb successfully cleaned, non-ATOM lines removed.\n",
      "Clean data written to 1YY8.clean.pdb.\n"
     ]
    }
   ],
   "source": [
    "from toolbox import pose_from_rcsb\n",
    "pose = pose_from_rcsb(\"1YY8\")"
   ]
  },
  {
   "cell_type": "code",
   "execution_count": 9,
   "metadata": {
    "collapsed": false
   },
   "outputs": [
    {
     "name": "stdout",
     "output_type": "stream",
     "text": [
      "PDB file name: 1YY8.clean.pdb\n",
      "Total residues:868\n",
      "Sequence: DILLTQSPVILSVSPGERVSFSCRASQSIGTNIHWYQQRTNGSPRLLIKYASESISGIPSRFSGSGSGTDFTLSINSVESEDIADYYCQQNNNWPTTFGAGTKLELKRTVAAPSVFIFPPSDEQLKSGTASVVCLLNNFYPREAKVQWKVDNALQSGNSQESVTEQDSKDSTYSLSSTLTLSKADYEKHKVYACEVTHQGLSSPVTKSFNRGAQVQLKQSGPGLVQPSQSLSITCTVSGFSLTNYGVHWVRQSPGKGLEWLGVIWSGGNTDYNTPFTSRLSINKDNSKSQVFFKMNSLQSNDTAIYYCARALTYYDYEFAYWGQGTLVTVSAASTKGPSVFPLAPSSKSTSGGTAALGCLVKDYFPEPVTVSWNSGALTSGVHTFPAVLQSSGLYSLSSVVTVPSSSLGTQTYICNVNHKPSNTKVDKRVEPKSDILLTQSPVILSVSPGERVSFSCRASQSIGTNIHWYQQRTNGSPRLLIKYASESISGIPSRFSGSGSGTDFTLSINSVESEDIADYYCQQNNNWPTTFGAGTKLELKRTVAAPSVFIFPPSDEQLKSGTASVVCLLNNFYPREAKVQWKVDNALQSGNSQESVTEQDSKDSTYSLSSTLTLSKADYEKHKVYACEVTHQGLSSPVTKSFNRGAQVQLKQSGPGLVQPSQSLSITCTVSGFSLTNYGVHWVRQSPGKGLEWLGVIWSGGNTDYNTPFTSRLSINKDNSKSQVFFKMNSLQSNDTAIYYCARALTYYDYEFAYWGQGTLVTVSAASTKGPSVFPLAPSSKSTSGGTAALGCLVKDYFPEPVTVSWNSGALTSGVHTFPAVLQSSGLYSLSSVVTVPSSSLGTQTYICNVNHKPSNTKVDKRVEPKS\n",
      "Fold tree:\n",
      "FOLD_TREE  EDGE 1 213 -1  EDGE 1 214 1  EDGE 214 434 -1  EDGE 1 435 2  EDGE 435 647 -1  EDGE 1 648 3  EDGE 648 868 -1 \n",
      "DILLTQSPVILSVSPGERVSFSCRASQSIGTNIHWYQQRTNGSPRLLIKYASESISGIPSRFSGSGSGTDFTLSINSVESEDIADYYCQQNNNWPTTFGAGTKLELKRTVAAPSVFIFPPSDEQLKSGTASVVCLLNNFYPREAKVQWKVDNALQSGNSQESVTEQDSKDSTYSLSSTLTLSKADYEKHKVYACEVTHQGLSSPVTKSFNRGAQVQLKQSGPGLVQPSQSLSITCTVSGFSLTNYGVHWVRQSPGKGLEWLGVIWSGGNTDYNTPFTSRLSINKDNSKSQVFFKMNSLQSNDTAIYYCARALTYYDYEFAYWGQGTLVTVSAASTKGPSVFPLAPSSKSTSGGTAALGCLVKDYFPEPVTVSWNSGALTSGVHTFPAVLQSSGLYSLSSVVTVPSSSLGTQTYICNVNHKPSNTKVDKRVEPKSDILLTQSPVILSVSPGERVSFSCRASQSIGTNIHWYQQRTNGSPRLLIKYASESISGIPSRFSGSGSGTDFTLSINSVESEDIADYYCQQNNNWPTTFGAGTKLELKRTVAAPSVFIFPPSDEQLKSGTASVVCLLNNFYPREAKVQWKVDNALQSGNSQESVTEQDSKDSTYSLSSTLTLSKADYEKHKVYACEVTHQGLSSPVTKSFNRGAQVQLKQSGPGLVQPSQSLSITCTVSGFSLTNYGVHWVRQSPGKGLEWLGVIWSGGNTDYNTPFTSRLSINKDNSKSQVFFKMNSLQSNDTAIYYCARALTYYDYEFAYWGQGTLVTVSAASTKGPSVFPLAPSSKSTSGGTAALGCLVKDYFPEPVTVSWNSGALTSGVHTFPAVLQSSGLYSLSSVVTVPSSSLGTQTYICNVNHKPSNTKVDKRVEPKS\n",
      "Protein has 868 residues.\n",
      "GLY\n"
     ]
    }
   ],
   "source": [
    "print pose\n",
    "print pose.sequence()\n",
    "print \"Protein has\", pose.total_residue(),\"residues.\"\n",
    "print pose.residue(500).name()"
   ]
  },
  {
   "cell_type": "code",
   "execution_count": 10,
   "metadata": {
    "collapsed": false
   },
   "outputs": [
    {
     "name": "stdout",
     "output_type": "stream",
     "text": [
      "C\n",
      "66\n"
     ]
    }
   ],
   "source": [
    "print pose.pdb_info().chain(500)\n",
    "print pose.pdb_info().number(500)"
   ]
  },
  {
   "cell_type": "code",
   "execution_count": 13,
   "metadata": {
    "collapsed": false
   },
   "outputs": [
    {
     "name": "stdout",
     "output_type": "stream",
     "text": [
      "100\n"
     ]
    }
   ],
   "source": [
    "print pose.pdb_info().pdb2pose('A',100)"
   ]
  },
  {
   "cell_type": "code",
   "execution_count": 14,
   "metadata": {
    "collapsed": false
   },
   "outputs": [
    {
     "name": "stdout",
     "output_type": "stream",
     "text": [
      "25 A \n"
     ]
    }
   ],
   "source": [
    "print pose.pdb_info().pose2pdb(25)"
   ]
  },
  {
   "cell_type": "code",
   "execution_count": 25,
   "metadata": {
    "collapsed": false
   },
   "outputs": [
    {
     "name": "stdout",
     "output_type": "stream",
     "text": [
      "1       9       17      25      33      41      49      57      65      73      \n",
      "DILLTQSPVILSVSPGERVSFSCRASQSIGTNIHWYQQRTNGSPRLLIKYASESISGIPSRFSGSGSGTDFTLSINSVES\n",
      "LLLEEEELLEEEELLLLLEEEEEEELLLLLLLEEEEEELLLLLLEEEEELLLEELLLLLLLEEEEEELLEEEEEELLLLH\n",
      "\n",
      "81      89      97      105     113     121     129     137     145     153     \n",
      "EDIADYYCQQNNNWPTTFGAGTKLELKRTVAAPSVFIFPPSDEQLKSGTASVVCLLNNFYPREAKVQWKVDNALQSGNSQ\n",
      "HHLEEEEEEELLLLLLEELLLEEEEELLLLELLEEEEELLLHHHHHHLEEEEEEEEEEEELLLLEEEEEELLEELLLLEE\n",
      "\n",
      "161     169     177     185     193     201     209     217     225     233     \n",
      "ESVTEQDSKDSTYSLSSTLTLSKADYEKHKVYACEVTHQGLSSPVTKSFNRGAQVQLKQSGPGLVQPSQSLSITCTVSGF\n",
      "EEELLLLLLLLLEEEEEEEEEEHHHHHHLLEEEEEEELLLLLLLEEEEEELLLLLEEEELLLEEELLLLLEEEEEEEELL\n",
      "\n",
      "241     249     257     265     273     281     289     297     305     313     \n",
      "SLTNYGVHWVRQSPGKGLEWLGVIWSGGNTDYNTPFTSRLSINKDNSKSQVFFKMNSLQSNDTAIYYCARALTYYDYEFA\n",
      "LLLLLLEEEEEELLLLLEEEEEEELLLLLEEELHHHLLLEEEEEELLLLEEEEEELLLLHHHLEEEEEEEELLLLLLLEE\n",
      "\n",
      "321     329     337     345     353     361     369     377     385     393     \n",
      "YWGQGTLVTVSAASTKGPSVFPLAPSSKSTSGGTAALGCLVKDYFPEPVTVSWNSGALTSGVHTFPAVLQSSGLYSLSSV\n",
      "EELLLEEEEELLLLLELLEEEEELLLHHHEEHHEEEEEEEEEEEELLLLEEEEHHHLELLLEEELLLEELLLLLEEEEEE\n",
      "\n",
      "401     409     417     425     433     441     449     457     465     473     \n",
      "VTVPSSSLGTQTYICNVNHKPSNTKVDKRVEPKSDILLTQSPVILSVSPGERVSFSCRASQSIGTNIHWYQQRTNGSPRL\n",
      "EEEEHHHLLLLLLEEEEEEHHHLEEEEEELLLLLLLLEEEELLEEEELLLLLEEEEEEELLLLLLLEEEEEELLLLLLEE\n",
      "\n",
      "481     489     497     505     513     521     529     537     545     553     \n",
      "LIKYASESISGIPSRFSGSGSGTDFTLSINSVESEDIADYYCQQNNNWPTTFGAGTKLELKRTVAAPSVFIFPPSDEQLK\n",
      "EEELLLEELLLLLLLEEEEEELLEEEEEELLLLHHHLEEEEEEELLLLLLEELLLEEEEELLLLELLEEEEELLLHHHHH\n",
      "\n",
      "561     569     577     585     593     601     609     617     625     633     \n",
      "SGTASVVCLLNNFYPREAKVQWKVDNALQSGNSQESVTEQDSKDSTYSLSSTLTLSKADYEKHKVYACEVTHQGLSSPVT\n",
      "HLEEEEEEEEEEEELLLEEEEEEELLEEELLLEEEEELLLLLLLLLEEEEEEEEEEHHHHHHLLEEEEEEEELLLLLLEE\n",
      "\n",
      "641     649     657     665     673     681     689     697     705     713     \n",
      "KSFNRGAQVQLKQSGPGLVQPSQSLSITCTVSGFSLTNYGVHWVRQSPGKGLEWLGVIWSGGNTDYNTPFTSRLSINKDN\n",
      "EEEELLLLLEEEELLLEEELLLLLEEEEEEEELLLLLLLLEEEEEELLLLLEEEEEEELLLLLEEELHHHLLLEEEEEEL\n",
      "\n",
      "721     729     737     745     753     761     769     777     785     793     \n",
      "SKSQVFFKMNSLQSNDTAIYYCARALTYYDYEFAYWGQGTLVTVSAASTKGPSVFPLAPSSKSTSGGTAALGCLVKDYFP\n",
      "LLLEEEEEELLLLHHHLEEEEEEEELLLLLLLEEEELLLEEEEELLLLLELLEEEEELLLHHHEEHHEEEEEEEEEEEEL\n",
      "\n",
      "801     809     817     825     833     841     849     857     865     873     \n",
      "EPVTVSWNSGALTSGVHTFPAVLQSSGLYSLSSVVTVPSSSLGTQTYICNVNHKPSNTKVDKRVEPKS\n",
      "LLLEEEEHHHLELLLEEELLLEELLLLLEEEEEEEEEEHHHHHLLLLEEEEEEHHHLEEEEEELLLLL\n",
      "\n"
     ]
    }
   ],
   "source": [
    "from toolbox import get_secstruct\n",
    "get_secstruct(pose)"
   ]
  },
  {
   "cell_type": "code",
   "execution_count": 32,
   "metadata": {
    "collapsed": false
   },
   "outputs": [],
   "source": [
    "Pose?"
   ]
  },
  {
   "cell_type": "code",
   "execution_count": 38,
   "metadata": {
    "collapsed": false
   },
   "outputs": [
    {
     "name": "stdout",
     "output_type": "stream",
     "text": [
      "-112.789885337\n",
      "119.194901448\n",
      "-59.969147489\n"
     ]
    }
   ],
   "source": [
    "print pose.phi(5)\n",
    "print pose.psi(5)\n",
    "print pose.chi(1,5)"
   ]
  },
  {
   "cell_type": "code",
   "execution_count": 39,
   "metadata": {
    "collapsed": true
   },
   "outputs": [],
   "source": [
    "R5N = AtomID(1,5)\n",
    "R5CA = AtomID(2,5)\n",
    "R5C = AtomID(3,5)"
   ]
  },
  {
   "cell_type": "code",
   "execution_count": 40,
   "metadata": {
    "collapsed": false
   },
   "outputs": [
    {
     "name": "stdout",
     "output_type": "stream",
     "text": [
      "1.46323238072\n",
      "1.50925345784\n"
     ]
    }
   ],
   "source": [
    "print pose.conformation().bond_length(R5N,R5CA)\n",
    "print pose.conformation().bond_length (R5CA, R5C)"
   ]
  },
  {
   "cell_type": "code",
   "execution_count": 42,
   "metadata": {
    "collapsed": false
   },
   "outputs": [
    {
     "name": "stdout",
     "output_type": "stream",
     "text": [
      "1.46323238072\n"
     ]
    }
   ],
   "source": [
    "N_xyz = pose.residue(5).xyz(\"N\")\n",
    "CA_xyz = pose.residue(5).xyz(\"CA\")\n",
    "N_CA_vector = CA_xyz - N_xyz\n",
    "print N_CA_vector.norm"
   ]
  },
  {
   "cell_type": "code",
   "execution_count": 45,
   "metadata": {
    "collapsed": false
   },
   "outputs": [
    {
     "name": "stdout",
     "output_type": "stream",
     "text": [
      "1.88743452869\n"
     ]
    }
   ],
   "source": [
    "print pose.conformation().bond_angle(R5N,R5CA,R5C)"
   ]
  },
  {
   "cell_type": "code",
   "execution_count": 51,
   "metadata": {
    "collapsed": false
   },
   "outputs": [],
   "source": [
    "pose.set_phi(5, -60)\n",
    "pose.set_psi(5, -43)\n",
    "pose.set_chi(1,5,180)\n",
    "\n",
    "pose.conformation().set_bond_length(R5N, R5CA, 1.5)\n",
    "pose.conformation().set_bond_angle(R5N, R5CA, R5C, 110./180.*3.14159)"
   ]
  },
  {
   "cell_type": "code",
   "execution_count": 48,
   "metadata": {
    "collapsed": false
   },
   "outputs": [
    {
     "name": "stdout",
     "output_type": "stream",
     "text": [
      "      17.88161792050849       30.25157518457599       14.97529736718587\n"
     ]
    }
   ],
   "source": [
    "N_xyza = pose.residue(6).xyz(\"N\")\n",
    "CA_xyza = pose.residue(6).xyz(\"CA\")\n",
    "print N_xyza"
   ]
  },
  {
   "cell_type": "code",
   "execution_count": 57,
   "metadata": {
    "collapsed": false
   },
   "outputs": [],
   "source": [
    "pymol = PyMOL_Mover()\n",
    "pymol.apply(pose)"
   ]
  },
  {
   "cell_type": "code",
   "execution_count": null,
   "metadata": {
    "collapsed": true
   },
   "outputs": [],
   "source": []
  }
 ],
 "metadata": {
  "kernelspec": {
   "display_name": "Python 2",
   "language": "python",
   "name": "python2"
  },
  "language_info": {
   "codemirror_mode": {
    "name": "ipython",
    "version": 2
   },
   "file_extension": ".py",
   "mimetype": "text/x-python",
   "name": "python",
   "nbconvert_exporter": "python",
   "pygments_lexer": "ipython2",
   "version": "2.7.10"
  }
 },
 "nbformat": 4,
 "nbformat_minor": 0
}
